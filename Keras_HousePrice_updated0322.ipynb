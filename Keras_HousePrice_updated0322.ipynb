{
  "nbformat": 4,
  "nbformat_minor": 0,
  "metadata": {
    "colab": {
      "name": "Keras_HousePrice_updated0322.ipynb",
      "provenance": [],
      "collapsed_sections": []
    },
    "kernelspec": {
      "name": "python3",
      "display_name": "Python 3"
    }
  },
  "cells": [
    {
      "cell_type": "markdown",
      "metadata": {
        "id": "OvZALFEJ5MzB",
        "colab_type": "text"
      },
      "source": [
        "A house costs 50k + 50k/bedroom;\n"
      ]
    },
    {
      "cell_type": "code",
      "metadata": {
        "id": "UJrRt6ok5CYy",
        "colab_type": "code",
        "colab": {
          "base_uri": "https://localhost:8080/",
          "height": 80
        },
        "outputId": "dd802778-f175-4a62-c4b7-d5c73ed6045b"
      },
      "source": [
        "import tensorflow as tf\n",
        "import numpy as np\n",
        "from tensorflow import keras"
      ],
      "execution_count": 3,
      "outputs": [
        {
          "output_type": "display_data",
          "data": {
            "text/html": [
              "<p style=\"color: red;\">\n",
              "The default version of TensorFlow in Colab will switch to TensorFlow 2.x on the 27th of March, 2020.<br>\n",
              "We recommend you <a href=\"https://www.tensorflow.org/guide/migrate\" target=\"_blank\">upgrade</a> now\n",
              "or ensure your notebook will continue to use TensorFlow 1.x via the <code>%tensorflow_version 1.x</code> magic:\n",
              "<a href=\"https://colab.research.google.com/notebooks/tensorflow_version.ipynb\" target=\"_blank\">more info</a>.</p>\n"
            ],
            "text/plain": [
              "<IPython.core.display.HTML object>"
            ]
          },
          "metadata": {
            "tags": []
          }
        }
      ]
    },
    {
      "cell_type": "code",
      "metadata": {
        "id": "rLT-krtB5S4e",
        "colab_type": "code",
        "colab": {}
      },
      "source": [
        "def house_model(y_new):\n",
        "    xs = np.array([1.0, 2.0,5.0, 6.0, 8.0,10.0, 12], dtype=float)\n",
        "    ys = np.array([1.0, 1.5,3.0, 3.5, 4.5,5.5, 6.5], dtype=float) \n",
        "    model = tf.keras.Sequential([keras.layers.Dense(units=1, input_shape=[1])])\n",
        "    model.compile(optimizer='sgd', loss='mean_squared_error', metrics=['accuracy'])\n",
        "    training=model.fit(xs, ys, epochs=10, batch_size=32)\n",
        "    accuracy = training.history['acc'][-1]\n",
        "    prediction = {}\n",
        "    prediction['price'] = model.predict(y_new)[0][0]\n",
        "    prediction['accuracy'] = accuracy\n",
        "    print(prediction)\n",
        "    return prediction"
      ],
      "execution_count": 0,
      "outputs": []
    },
    {
      "cell_type": "code",
      "metadata": {
        "id": "J4HHBV195bWn",
        "colab_type": "code",
        "outputId": "9e2eee69-cd22-489d-f0e1-ebf9fa76f443",
        "colab": {
          "base_uri": "https://localhost:8080/",
          "height": 428
        }
      },
      "source": [
        "prediction = house_model([9.0])\n",
        "print(\"price=\", prediction['price'] * 100, \"k\")\n",
        "print(\"accuracy=\", prediction['accuracy'])"
      ],
      "execution_count": 9,
      "outputs": [
        {
          "output_type": "stream",
          "text": [
            "Train on 7 samples\n",
            "Epoch 1/10\n",
            "7/7 [==============================] - 0s 4ms/sample - loss: 9.3112 - acc: 0.0000e+00\n",
            "Epoch 2/10\n",
            "7/7 [==============================] - 0s 189us/sample - loss: 0.1170 - acc: 0.1429\n",
            "Epoch 3/10\n",
            "7/7 [==============================] - 0s 169us/sample - loss: 0.0525 - acc: 0.1429\n",
            "Epoch 4/10\n",
            "7/7 [==============================] - 0s 168us/sample - loss: 0.0515 - acc: 0.1429\n",
            "Epoch 5/10\n",
            "7/7 [==============================] - 0s 399us/sample - loss: 0.0510 - acc: 0.1429\n",
            "Epoch 6/10\n",
            "7/7 [==============================] - 0s 203us/sample - loss: 0.0504 - acc: 0.1429\n",
            "Epoch 7/10\n",
            "7/7 [==============================] - 0s 241us/sample - loss: 0.0499 - acc: 0.1429\n",
            "Epoch 8/10\n",
            "7/7 [==============================] - 0s 281us/sample - loss: 0.0494 - acc: 0.1429\n",
            "Epoch 9/10\n",
            "7/7 [==============================] - 0s 281us/sample - loss: 0.0489 - acc: 0.1429\n",
            "Epoch 10/10\n",
            "7/7 [==============================] - 0s 301us/sample - loss: 0.0484 - acc: 0.1429\n",
            "{'price': 5.027417, 'accuracy': 0.14285715}\n",
            "price= 502.7417182922363 k\n",
            "accuracy= 0.14285715\n"
          ],
          "name": "stdout"
        }
      ]
    }
  ]
}